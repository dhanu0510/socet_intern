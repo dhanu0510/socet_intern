{
 "cells": [
  {
   "cell_type": "code",
   "execution_count": 63,
   "metadata": {},
   "outputs": [],
   "source": [
    "import pandas as pd"
   ]
  },
  {
   "cell_type": "code",
   "execution_count": 64,
   "metadata": {},
   "outputs": [
    {
     "data": {
      "text/html": [
       "<div>\n",
       "<style scoped>\n",
       "    .dataframe tbody tr th:only-of-type {\n",
       "        vertical-align: middle;\n",
       "    }\n",
       "\n",
       "    .dataframe tbody tr th {\n",
       "        vertical-align: top;\n",
       "    }\n",
       "\n",
       "    .dataframe thead th {\n",
       "        text-align: right;\n",
       "    }\n",
       "</style>\n",
       "<table border=\"1\" class=\"dataframe\">\n",
       "  <thead>\n",
       "    <tr style=\"text-align: right;\">\n",
       "      <th></th>\n",
       "      <th>Match_Number</th>\n",
       "      <th>Match</th>\n",
       "      <th>Date</th>\n",
       "      <th>Year</th>\n",
       "      <th>Venue</th>\n",
       "      <th>Team_Batting_First</th>\n",
       "      <th>Team_Batting_Second</th>\n",
       "      <th>Bat_First_Runs_Scored</th>\n",
       "      <th>Bat_First_Wickets_Lost</th>\n",
       "      <th>Bat_First_Overs_Consumed</th>\n",
       "      <th>...</th>\n",
       "      <th>Bat_Second_10_ov_score</th>\n",
       "      <th>Bat_Second_10_ov_wkts_lost</th>\n",
       "      <th>Bat_Second_10_ov_Req_RR</th>\n",
       "      <th>Bat_Second_15_ov_score</th>\n",
       "      <th>Bat_Second_15_ov_wkts_lost</th>\n",
       "      <th>Bat_Second_15_ov_Req_RR</th>\n",
       "      <th>Bat_Second_20_ov_score</th>\n",
       "      <th>Bat_Second_20_ov_wkts_lost</th>\n",
       "      <th>Match_Time</th>\n",
       "      <th>Duckworth Lewis Used</th>\n",
       "    </tr>\n",
       "  </thead>\n",
       "  <tbody>\n",
       "    <tr>\n",
       "      <th>0</th>\n",
       "      <td>1</td>\n",
       "      <td>League Match</td>\n",
       "      <td>Apr 18</td>\n",
       "      <td>2008</td>\n",
       "      <td>Bangalore</td>\n",
       "      <td>Kolkata</td>\n",
       "      <td>Bangalore</td>\n",
       "      <td>222</td>\n",
       "      <td>3</td>\n",
       "      <td>20.0</td>\n",
       "      <td>...</td>\n",
       "      <td>51.0</td>\n",
       "      <td>7.0</td>\n",
       "      <td>17.2</td>\n",
       "      <td>81.0</td>\n",
       "      <td>9.0</td>\n",
       "      <td>28.4</td>\n",
       "      <td>NaN</td>\n",
       "      <td>NaN</td>\n",
       "      <td>Evening</td>\n",
       "      <td>NaN</td>\n",
       "    </tr>\n",
       "    <tr>\n",
       "      <th>1</th>\n",
       "      <td>2</td>\n",
       "      <td>League Match</td>\n",
       "      <td>Apr 19</td>\n",
       "      <td>2008</td>\n",
       "      <td>Mohali</td>\n",
       "      <td>Chennai</td>\n",
       "      <td>Punjab</td>\n",
       "      <td>240</td>\n",
       "      <td>5</td>\n",
       "      <td>20.0</td>\n",
       "      <td>...</td>\n",
       "      <td>110.0</td>\n",
       "      <td>1.0</td>\n",
       "      <td>13.1</td>\n",
       "      <td>165.0</td>\n",
       "      <td>3.0</td>\n",
       "      <td>15.2</td>\n",
       "      <td>207.0</td>\n",
       "      <td>4.0</td>\n",
       "      <td>Afternoon</td>\n",
       "      <td>NaN</td>\n",
       "    </tr>\n",
       "    <tr>\n",
       "      <th>2</th>\n",
       "      <td>3</td>\n",
       "      <td>League Match</td>\n",
       "      <td>Apr 19</td>\n",
       "      <td>2008</td>\n",
       "      <td>Delhi</td>\n",
       "      <td>Rajasthan</td>\n",
       "      <td>Delhi</td>\n",
       "      <td>129</td>\n",
       "      <td>8</td>\n",
       "      <td>20.0</td>\n",
       "      <td>...</td>\n",
       "      <td>86.0</td>\n",
       "      <td>1.0</td>\n",
       "      <td>4.4</td>\n",
       "      <td>128.0</td>\n",
       "      <td>1.0</td>\n",
       "      <td>0.4</td>\n",
       "      <td>NaN</td>\n",
       "      <td>NaN</td>\n",
       "      <td>Evening</td>\n",
       "      <td>NaN</td>\n",
       "    </tr>\n",
       "    <tr>\n",
       "      <th>3</th>\n",
       "      <td>4</td>\n",
       "      <td>League Match</td>\n",
       "      <td>Apr 20</td>\n",
       "      <td>2008</td>\n",
       "      <td>Kolkata</td>\n",
       "      <td>Hyderabad</td>\n",
       "      <td>Kolkata</td>\n",
       "      <td>110</td>\n",
       "      <td>10</td>\n",
       "      <td>18.4</td>\n",
       "      <td>...</td>\n",
       "      <td>38.0</td>\n",
       "      <td>3.0</td>\n",
       "      <td>7.3</td>\n",
       "      <td>81.0</td>\n",
       "      <td>4.0</td>\n",
       "      <td>6.0</td>\n",
       "      <td>NaN</td>\n",
       "      <td>NaN</td>\n",
       "      <td>Afternoon</td>\n",
       "      <td>NaN</td>\n",
       "    </tr>\n",
       "    <tr>\n",
       "      <th>4</th>\n",
       "      <td>5</td>\n",
       "      <td>League Match</td>\n",
       "      <td>Apr 20</td>\n",
       "      <td>2008</td>\n",
       "      <td>Mumbai</td>\n",
       "      <td>Mumbai</td>\n",
       "      <td>Bangalore</td>\n",
       "      <td>165</td>\n",
       "      <td>6</td>\n",
       "      <td>20.0</td>\n",
       "      <td>...</td>\n",
       "      <td>76.0</td>\n",
       "      <td>3.0</td>\n",
       "      <td>9.0</td>\n",
       "      <td>118.0</td>\n",
       "      <td>4.0</td>\n",
       "      <td>9.6</td>\n",
       "      <td>166.0</td>\n",
       "      <td>5.0</td>\n",
       "      <td>Evening</td>\n",
       "      <td>NaN</td>\n",
       "    </tr>\n",
       "  </tbody>\n",
       "</table>\n",
       "<p>5 rows × 43 columns</p>\n",
       "</div>"
      ],
      "text/plain": [
       "   Match_Number         Match    Date  Year      Venue Team_Batting_First  \\\n",
       "0             1  League Match  Apr 18  2008  Bangalore            Kolkata   \n",
       "1             2  League Match  Apr 19  2008     Mohali            Chennai   \n",
       "2             3  League Match  Apr 19  2008      Delhi          Rajasthan   \n",
       "3             4  League Match  Apr 20  2008    Kolkata          Hyderabad   \n",
       "4             5  League Match  Apr 20  2008     Mumbai             Mumbai   \n",
       "\n",
       "  Team_Batting_Second  Bat_First_Runs_Scored  Bat_First_Wickets_Lost  \\\n",
       "0           Bangalore                    222                       3   \n",
       "1              Punjab                    240                       5   \n",
       "2               Delhi                    129                       8   \n",
       "3             Kolkata                    110                      10   \n",
       "4           Bangalore                    165                       6   \n",
       "\n",
       "   Bat_First_Overs_Consumed  ...  Bat_Second_10_ov_score  \\\n",
       "0                      20.0  ...                    51.0   \n",
       "1                      20.0  ...                   110.0   \n",
       "2                      20.0  ...                    86.0   \n",
       "3                      18.4  ...                    38.0   \n",
       "4                      20.0  ...                    76.0   \n",
       "\n",
       "   Bat_Second_10_ov_wkts_lost  Bat_Second_10_ov_Req_RR  \\\n",
       "0                         7.0                     17.2   \n",
       "1                         1.0                     13.1   \n",
       "2                         1.0                      4.4   \n",
       "3                         3.0                      7.3   \n",
       "4                         3.0                      9.0   \n",
       "\n",
       "   Bat_Second_15_ov_score  Bat_Second_15_ov_wkts_lost Bat_Second_15_ov_Req_RR  \\\n",
       "0                    81.0                         9.0                    28.4   \n",
       "1                   165.0                         3.0                    15.2   \n",
       "2                   128.0                         1.0                     0.4   \n",
       "3                    81.0                         4.0                     6.0   \n",
       "4                   118.0                         4.0                     9.6   \n",
       "\n",
       "  Bat_Second_20_ov_score  Bat_Second_20_ov_wkts_lost Match_Time  \\\n",
       "0                    NaN                         NaN    Evening   \n",
       "1                  207.0                         4.0  Afternoon   \n",
       "2                    NaN                         NaN    Evening   \n",
       "3                    NaN                         NaN  Afternoon   \n",
       "4                  166.0                         5.0    Evening   \n",
       "\n",
       "   Duckworth Lewis Used  \n",
       "0                   NaN  \n",
       "1                   NaN  \n",
       "2                   NaN  \n",
       "3                   NaN  \n",
       "4                   NaN  \n",
       "\n",
       "[5 rows x 43 columns]"
      ]
     },
     "execution_count": 64,
     "metadata": {},
     "output_type": "execute_result"
    }
   ],
   "source": [
    "data = pd.read_excel(\"IPL.xls\")\n",
    "data.head()"
   ]
  },
  {
   "cell_type": "markdown",
   "metadata": {},
   "source": [
    "### Task-1"
   ]
  },
  {
   "cell_type": "code",
   "execution_count": 65,
   "metadata": {},
   "outputs": [
    {
     "data": {
      "text/plain": [
       "58"
      ]
     },
     "execution_count": 65,
     "metadata": {},
     "output_type": "execute_result"
    }
   ],
   "source": [
    "YEAR_2008 = data[data[\"Year\"] == 2008]\n",
    "total_2008 = len(YEAR_2008)\n",
    "len(YEAR_2008)"
   ]
  },
  {
   "cell_type": "code",
   "execution_count": 66,
   "metadata": {},
   "outputs": [
    {
     "data": {
      "text/plain": [
       "22"
      ]
     },
     "execution_count": 66,
     "metadata": {},
     "output_type": "execute_result"
    }
   ],
   "source": [
    "BAT_WIN_2008 = YEAR_2008[YEAR_2008[\"Winner\"] == YEAR_2008[\"Team_Batting_First\"]]\n",
    "len(BAT_WIN_2008)"
   ]
  },
  {
   "cell_type": "code",
   "execution_count": 67,
   "metadata": {},
   "outputs": [
    {
     "data": {
      "text/plain": [
       "36"
      ]
     },
     "execution_count": 67,
     "metadata": {},
     "output_type": "execute_result"
    }
   ],
   "source": [
    "BAT_WIN_2008 = YEAR_2008[YEAR_2008[\"Winner\"] == YEAR_2008[\"Team_Batting_Second\"]]\n",
    "len(BAT_WIN_2008)"
   ]
  },
  {
   "cell_type": "code",
   "execution_count": 68,
   "metadata": {},
   "outputs": [
    {
     "data": {
      "text/plain": [
       "[[58, 22, 36],\n",
       " [57, 26, 30],\n",
       " [60, 31, 28],\n",
       " [72, 32, 40],\n",
       " [74, 34, 40],\n",
       " [76, 37, 37],\n",
       " [60, 22, 37],\n",
       " [57, 32, 24]]"
      ]
     },
     "execution_count": 68,
     "metadata": {},
     "output_type": "execute_result"
    }
   ],
   "source": [
    "task_1_data = []\n",
    "for i in range(2008,2016):\n",
    "#     print(\"YEAR:\",i)\n",
    "    year = data[data[\"Year\"] == i]\n",
    "#     print(\"Total:\",len(year))\n",
    "    bat_first = year[year[\"Winner\"] == year[\"Team_Batting_First\"]]\n",
    "#     print(\"Bat First:\",len(bat_first))\n",
    "    bat_second = year[year[\"Winner\"] == year[\"Team_Batting_Second\"]]\n",
    "#     print(\"Bat Second:\",len(bat_second))\n",
    "#     print(\"-------------------------------------\")\n",
    "    temp = []\n",
    "    temp.append(len(year))\n",
    "    temp.append(len(bat_first))\n",
    "    temp.append(len(bat_second))\n",
    "    task_1_data.append(temp)\n",
    "task_1_data"
   ]
  },
  {
   "cell_type": "code",
   "execution_count": 70,
   "metadata": {},
   "outputs": [
    {
     "data": {
      "text/plain": [
       "[0, 1, 1, 0, 0, 2, 1, 1]"
      ]
     },
     "execution_count": 70,
     "metadata": {},
     "output_type": "execute_result"
    }
   ],
   "source": [
    "tie = []\n",
    "for i in range(len(task_1_data)):\n",
    "    tie.append(task_1_data[i][0]-task_1_data[i][1]-task_1_data[i][2])\n",
    "tie"
   ]
  },
  {
   "cell_type": "code",
   "execution_count": 44,
   "metadata": {},
   "outputs": [
    {
     "data": {
      "text/plain": [
       "[2008, 2009, 2010, 2011, 2012, 2013, 2014, 2015]"
      ]
     },
     "execution_count": 44,
     "metadata": {},
     "output_type": "execute_result"
    }
   ],
   "source": [
    "index = [i for i in range(2008,2016)]\n",
    "index"
   ]
  },
  {
   "cell_type": "code",
   "execution_count": 72,
   "metadata": {},
   "outputs": [
    {
     "data": {
      "text/html": [
       "<div>\n",
       "<style scoped>\n",
       "    .dataframe tbody tr th:only-of-type {\n",
       "        vertical-align: middle;\n",
       "    }\n",
       "\n",
       "    .dataframe tbody tr th {\n",
       "        vertical-align: top;\n",
       "    }\n",
       "\n",
       "    .dataframe thead th {\n",
       "        text-align: right;\n",
       "    }\n",
       "</style>\n",
       "<table border=\"1\" class=\"dataframe\">\n",
       "  <thead>\n",
       "    <tr style=\"text-align: right;\">\n",
       "      <th></th>\n",
       "      <th>Total</th>\n",
       "      <th>Bat_First</th>\n",
       "      <th>Bat_second</th>\n",
       "      <th>Tie</th>\n",
       "    </tr>\n",
       "  </thead>\n",
       "  <tbody>\n",
       "    <tr>\n",
       "      <th>2008</th>\n",
       "      <td>58</td>\n",
       "      <td>22</td>\n",
       "      <td>36</td>\n",
       "      <td>0</td>\n",
       "    </tr>\n",
       "    <tr>\n",
       "      <th>2009</th>\n",
       "      <td>57</td>\n",
       "      <td>26</td>\n",
       "      <td>30</td>\n",
       "      <td>1</td>\n",
       "    </tr>\n",
       "    <tr>\n",
       "      <th>2010</th>\n",
       "      <td>60</td>\n",
       "      <td>31</td>\n",
       "      <td>28</td>\n",
       "      <td>1</td>\n",
       "    </tr>\n",
       "    <tr>\n",
       "      <th>2011</th>\n",
       "      <td>72</td>\n",
       "      <td>32</td>\n",
       "      <td>40</td>\n",
       "      <td>0</td>\n",
       "    </tr>\n",
       "    <tr>\n",
       "      <th>2012</th>\n",
       "      <td>74</td>\n",
       "      <td>34</td>\n",
       "      <td>40</td>\n",
       "      <td>0</td>\n",
       "    </tr>\n",
       "    <tr>\n",
       "      <th>2013</th>\n",
       "      <td>76</td>\n",
       "      <td>37</td>\n",
       "      <td>37</td>\n",
       "      <td>2</td>\n",
       "    </tr>\n",
       "    <tr>\n",
       "      <th>2014</th>\n",
       "      <td>60</td>\n",
       "      <td>22</td>\n",
       "      <td>37</td>\n",
       "      <td>1</td>\n",
       "    </tr>\n",
       "    <tr>\n",
       "      <th>2015</th>\n",
       "      <td>57</td>\n",
       "      <td>32</td>\n",
       "      <td>24</td>\n",
       "      <td>1</td>\n",
       "    </tr>\n",
       "  </tbody>\n",
       "</table>\n",
       "</div>"
      ],
      "text/plain": [
       "      Total  Bat_First  Bat_second  Tie\n",
       "2008     58         22          36    0\n",
       "2009     57         26          30    1\n",
       "2010     60         31          28    1\n",
       "2011     72         32          40    0\n",
       "2012     74         34          40    0\n",
       "2013     76         37          37    2\n",
       "2014     60         22          37    1\n",
       "2015     57         32          24    1"
      ]
     },
     "execution_count": 72,
     "metadata": {},
     "output_type": "execute_result"
    }
   ],
   "source": [
    "task_1 = pd.DataFrame(data =task_1_data,columns = [\"Total\",\"Bat_First\",\"Bat_second\"],index = index)\n",
    "task_1[\"Tie\"] = tie\n",
    "task_1"
   ]
  },
  {
   "cell_type": "markdown",
   "metadata": {},
   "source": [
    "### Task-2"
   ]
  },
  {
   "cell_type": "code",
   "execution_count": 51,
   "metadata": {},
   "outputs": [
    {
     "data": {
      "text/plain": [
       "Mumbai       62\n",
       "Chennai      48\n",
       "Kolkata      47\n",
       "Bangalore    47\n",
       "Delhi        45\n",
       "Name: Venue, dtype: int64"
      ]
     },
     "execution_count": 51,
     "metadata": {},
     "output_type": "execute_result"
    }
   ],
   "source": [
    "venue = data[\"Venue\"].value_counts()\n",
    "venue[:5]"
   ]
  },
  {
   "cell_type": "code",
   "execution_count": 53,
   "metadata": {},
   "outputs": [
    {
     "name": "stdout",
     "output_type": "stream",
     "text": [
      "Most matches at Mumbai and number of matches is 62\n"
     ]
    }
   ],
   "source": [
    "print(f\"Most matches at Mumbai and number of matches is 62\")"
   ]
  },
  {
   "cell_type": "markdown",
   "metadata": {},
   "source": [
    "### Task-3"
   ]
  },
  {
   "cell_type": "code",
   "execution_count": 61,
   "metadata": {},
   "outputs": [
    {
     "data": {
      "text/plain": [
       "263"
      ]
     },
     "execution_count": 61,
     "metadata": {},
     "output_type": "execute_result"
    }
   ],
   "source": [
    "max_run = data[\"Bat_First_Runs_Scored\"].max()\n",
    "max_run"
   ]
  },
  {
   "cell_type": "code",
   "execution_count": 62,
   "metadata": {},
   "outputs": [
    {
     "data": {
      "text/html": [
       "<div>\n",
       "<style scoped>\n",
       "    .dataframe tbody tr th:only-of-type {\n",
       "        vertical-align: middle;\n",
       "    }\n",
       "\n",
       "    .dataframe tbody tr th {\n",
       "        vertical-align: top;\n",
       "    }\n",
       "\n",
       "    .dataframe thead th {\n",
       "        text-align: right;\n",
       "    }\n",
       "</style>\n",
       "<table border=\"1\" class=\"dataframe\">\n",
       "  <thead>\n",
       "    <tr style=\"text-align: right;\">\n",
       "      <th></th>\n",
       "      <th>Match_Number</th>\n",
       "      <th>Match</th>\n",
       "      <th>Date</th>\n",
       "      <th>Year</th>\n",
       "      <th>Venue</th>\n",
       "      <th>Team_Batting_First</th>\n",
       "      <th>Team_Batting_Second</th>\n",
       "      <th>Bat_First_Runs_Scored</th>\n",
       "      <th>Bat_First_Wickets_Lost</th>\n",
       "      <th>Bat_First_Overs_Consumed</th>\n",
       "      <th>...</th>\n",
       "      <th>Bat_Second_10_ov_score</th>\n",
       "      <th>Bat_Second_10_ov_wkts_lost</th>\n",
       "      <th>Bat_Second_10_ov_Req_RR</th>\n",
       "      <th>Bat_Second_15_ov_score</th>\n",
       "      <th>Bat_Second_15_ov_wkts_lost</th>\n",
       "      <th>Bat_Second_15_ov_Req_RR</th>\n",
       "      <th>Bat_Second_20_ov_score</th>\n",
       "      <th>Bat_Second_20_ov_wkts_lost</th>\n",
       "      <th>Match_Time</th>\n",
       "      <th>Duckworth Lewis Used</th>\n",
       "    </tr>\n",
       "  </thead>\n",
       "  <tbody>\n",
       "    <tr>\n",
       "      <th>351</th>\n",
       "      <td>352</td>\n",
       "      <td>League Match</td>\n",
       "      <td>Apr 23</td>\n",
       "      <td>2013</td>\n",
       "      <td>Bangalore</td>\n",
       "      <td>Bangalore</td>\n",
       "      <td>Pune</td>\n",
       "      <td>263</td>\n",
       "      <td>5</td>\n",
       "      <td>20.0</td>\n",
       "      <td>...</td>\n",
       "      <td>76.0</td>\n",
       "      <td>4.0</td>\n",
       "      <td>18.8</td>\n",
       "      <td>111.0</td>\n",
       "      <td>5.0</td>\n",
       "      <td>30.6</td>\n",
       "      <td>133.0</td>\n",
       "      <td>9.0</td>\n",
       "      <td>Afternoon</td>\n",
       "      <td>NaN</td>\n",
       "    </tr>\n",
       "  </tbody>\n",
       "</table>\n",
       "<p>1 rows × 43 columns</p>\n",
       "</div>"
      ],
      "text/plain": [
       "     Match_Number         Match    Date  Year      Venue Team_Batting_First  \\\n",
       "351           352  League Match  Apr 23  2013  Bangalore          Bangalore   \n",
       "\n",
       "    Team_Batting_Second  Bat_First_Runs_Scored  Bat_First_Wickets_Lost  \\\n",
       "351                Pune                    263                       5   \n",
       "\n",
       "     Bat_First_Overs_Consumed  ...  Bat_Second_10_ov_score  \\\n",
       "351                      20.0  ...                    76.0   \n",
       "\n",
       "     Bat_Second_10_ov_wkts_lost  Bat_Second_10_ov_Req_RR  \\\n",
       "351                         4.0                     18.8   \n",
       "\n",
       "     Bat_Second_15_ov_score  Bat_Second_15_ov_wkts_lost  \\\n",
       "351                   111.0                         5.0   \n",
       "\n",
       "    Bat_Second_15_ov_Req_RR Bat_Second_20_ov_score  \\\n",
       "351                    30.6                  133.0   \n",
       "\n",
       "     Bat_Second_20_ov_wkts_lost Match_Time  Duckworth Lewis Used  \n",
       "351                         9.0  Afternoon                   NaN  \n",
       "\n",
       "[1 rows x 43 columns]"
      ]
     },
     "execution_count": 62,
     "metadata": {},
     "output_type": "execute_result"
    }
   ],
   "source": [
    "data[data[\"Bat_First_Runs_Scored\"] == max_run]"
   ]
  }
 ],
 "metadata": {
  "kernelspec": {
   "display_name": "Python 3",
   "language": "python",
   "name": "python3"
  },
  "language_info": {
   "codemirror_mode": {
    "name": "ipython",
    "version": 3
   },
   "file_extension": ".py",
   "mimetype": "text/x-python",
   "name": "python",
   "nbconvert_exporter": "python",
   "pygments_lexer": "ipython3",
   "version": "3.8.5"
  }
 },
 "nbformat": 4,
 "nbformat_minor": 4
}
