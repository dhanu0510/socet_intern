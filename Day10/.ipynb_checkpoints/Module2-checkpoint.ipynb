{
 "cells": [
  {
   "cell_type": "code",
   "execution_count": 1,
   "metadata": {},
   "outputs": [],
   "source": [
    "import pandas as pd"
   ]
  },
  {
   "cell_type": "code",
   "execution_count": 2,
   "metadata": {},
   "outputs": [
    {
     "data": {
      "text/html": [
       "<div>\n",
       "<style scoped>\n",
       "    .dataframe tbody tr th:only-of-type {\n",
       "        vertical-align: middle;\n",
       "    }\n",
       "\n",
       "    .dataframe tbody tr th {\n",
       "        vertical-align: top;\n",
       "    }\n",
       "\n",
       "    .dataframe thead th {\n",
       "        text-align: right;\n",
       "    }\n",
       "</style>\n",
       "<table border=\"1\" class=\"dataframe\">\n",
       "  <thead>\n",
       "    <tr style=\"text-align: right;\">\n",
       "      <th></th>\n",
       "      <th>Match_Number</th>\n",
       "      <th>Match</th>\n",
       "      <th>Date</th>\n",
       "      <th>Year</th>\n",
       "      <th>Venue</th>\n",
       "      <th>Team_Batting_First</th>\n",
       "      <th>Team_Batting_Second</th>\n",
       "      <th>Bat_First_Runs_Scored</th>\n",
       "      <th>Bat_First_Wickets_Lost</th>\n",
       "      <th>Bat_First_Overs_Consumed</th>\n",
       "      <th>...</th>\n",
       "      <th>Bat_Second_10_ov_score</th>\n",
       "      <th>Bat_Second_10_ov_wkts_lost</th>\n",
       "      <th>Bat_Second_10_ov_Req_RR</th>\n",
       "      <th>Bat_Second_15_ov_score</th>\n",
       "      <th>Bat_Second_15_ov_wkts_lost</th>\n",
       "      <th>Bat_Second_15_ov_Req_RR</th>\n",
       "      <th>Bat_Second_20_ov_score</th>\n",
       "      <th>Bat_Second_20_ov_wkts_lost</th>\n",
       "      <th>Match_Time</th>\n",
       "      <th>Duckworth Lewis Used</th>\n",
       "    </tr>\n",
       "  </thead>\n",
       "  <tbody>\n",
       "    <tr>\n",
       "      <th>0</th>\n",
       "      <td>1</td>\n",
       "      <td>League Match</td>\n",
       "      <td>Apr 18</td>\n",
       "      <td>2008</td>\n",
       "      <td>Bangalore</td>\n",
       "      <td>Kolkata</td>\n",
       "      <td>Bangalore</td>\n",
       "      <td>222</td>\n",
       "      <td>3</td>\n",
       "      <td>20.0</td>\n",
       "      <td>...</td>\n",
       "      <td>51.0</td>\n",
       "      <td>7.0</td>\n",
       "      <td>17.2</td>\n",
       "      <td>81.0</td>\n",
       "      <td>9.0</td>\n",
       "      <td>28.4</td>\n",
       "      <td>NaN</td>\n",
       "      <td>NaN</td>\n",
       "      <td>Evening</td>\n",
       "      <td>NaN</td>\n",
       "    </tr>\n",
       "    <tr>\n",
       "      <th>1</th>\n",
       "      <td>2</td>\n",
       "      <td>League Match</td>\n",
       "      <td>Apr 19</td>\n",
       "      <td>2008</td>\n",
       "      <td>Mohali</td>\n",
       "      <td>Chennai</td>\n",
       "      <td>Punjab</td>\n",
       "      <td>240</td>\n",
       "      <td>5</td>\n",
       "      <td>20.0</td>\n",
       "      <td>...</td>\n",
       "      <td>110.0</td>\n",
       "      <td>1.0</td>\n",
       "      <td>13.1</td>\n",
       "      <td>165.0</td>\n",
       "      <td>3.0</td>\n",
       "      <td>15.2</td>\n",
       "      <td>207.0</td>\n",
       "      <td>4.0</td>\n",
       "      <td>Afternoon</td>\n",
       "      <td>NaN</td>\n",
       "    </tr>\n",
       "    <tr>\n",
       "      <th>2</th>\n",
       "      <td>3</td>\n",
       "      <td>League Match</td>\n",
       "      <td>Apr 19</td>\n",
       "      <td>2008</td>\n",
       "      <td>Delhi</td>\n",
       "      <td>Rajasthan</td>\n",
       "      <td>Delhi</td>\n",
       "      <td>129</td>\n",
       "      <td>8</td>\n",
       "      <td>20.0</td>\n",
       "      <td>...</td>\n",
       "      <td>86.0</td>\n",
       "      <td>1.0</td>\n",
       "      <td>4.4</td>\n",
       "      <td>128.0</td>\n",
       "      <td>1.0</td>\n",
       "      <td>0.4</td>\n",
       "      <td>NaN</td>\n",
       "      <td>NaN</td>\n",
       "      <td>Evening</td>\n",
       "      <td>NaN</td>\n",
       "    </tr>\n",
       "    <tr>\n",
       "      <th>3</th>\n",
       "      <td>4</td>\n",
       "      <td>League Match</td>\n",
       "      <td>Apr 20</td>\n",
       "      <td>2008</td>\n",
       "      <td>Kolkata</td>\n",
       "      <td>Hyderabad</td>\n",
       "      <td>Kolkata</td>\n",
       "      <td>110</td>\n",
       "      <td>10</td>\n",
       "      <td>18.4</td>\n",
       "      <td>...</td>\n",
       "      <td>38.0</td>\n",
       "      <td>3.0</td>\n",
       "      <td>7.3</td>\n",
       "      <td>81.0</td>\n",
       "      <td>4.0</td>\n",
       "      <td>6.0</td>\n",
       "      <td>NaN</td>\n",
       "      <td>NaN</td>\n",
       "      <td>Afternoon</td>\n",
       "      <td>NaN</td>\n",
       "    </tr>\n",
       "    <tr>\n",
       "      <th>4</th>\n",
       "      <td>5</td>\n",
       "      <td>League Match</td>\n",
       "      <td>Apr 20</td>\n",
       "      <td>2008</td>\n",
       "      <td>Mumbai</td>\n",
       "      <td>Mumbai</td>\n",
       "      <td>Bangalore</td>\n",
       "      <td>165</td>\n",
       "      <td>6</td>\n",
       "      <td>20.0</td>\n",
       "      <td>...</td>\n",
       "      <td>76.0</td>\n",
       "      <td>3.0</td>\n",
       "      <td>9.0</td>\n",
       "      <td>118.0</td>\n",
       "      <td>4.0</td>\n",
       "      <td>9.6</td>\n",
       "      <td>166.0</td>\n",
       "      <td>5.0</td>\n",
       "      <td>Evening</td>\n",
       "      <td>NaN</td>\n",
       "    </tr>\n",
       "  </tbody>\n",
       "</table>\n",
       "<p>5 rows × 43 columns</p>\n",
       "</div>"
      ],
      "text/plain": [
       "   Match_Number         Match    Date  Year      Venue Team_Batting_First  \\\n",
       "0             1  League Match  Apr 18  2008  Bangalore            Kolkata   \n",
       "1             2  League Match  Apr 19  2008     Mohali            Chennai   \n",
       "2             3  League Match  Apr 19  2008      Delhi          Rajasthan   \n",
       "3             4  League Match  Apr 20  2008    Kolkata          Hyderabad   \n",
       "4             5  League Match  Apr 20  2008     Mumbai             Mumbai   \n",
       "\n",
       "  Team_Batting_Second  Bat_First_Runs_Scored  Bat_First_Wickets_Lost  \\\n",
       "0           Bangalore                    222                       3   \n",
       "1              Punjab                    240                       5   \n",
       "2               Delhi                    129                       8   \n",
       "3             Kolkata                    110                      10   \n",
       "4           Bangalore                    165                       6   \n",
       "\n",
       "   Bat_First_Overs_Consumed  ...  Bat_Second_10_ov_score  \\\n",
       "0                      20.0  ...                    51.0   \n",
       "1                      20.0  ...                   110.0   \n",
       "2                      20.0  ...                    86.0   \n",
       "3                      18.4  ...                    38.0   \n",
       "4                      20.0  ...                    76.0   \n",
       "\n",
       "   Bat_Second_10_ov_wkts_lost  Bat_Second_10_ov_Req_RR  \\\n",
       "0                         7.0                     17.2   \n",
       "1                         1.0                     13.1   \n",
       "2                         1.0                      4.4   \n",
       "3                         3.0                      7.3   \n",
       "4                         3.0                      9.0   \n",
       "\n",
       "   Bat_Second_15_ov_score  Bat_Second_15_ov_wkts_lost Bat_Second_15_ov_Req_RR  \\\n",
       "0                    81.0                         9.0                    28.4   \n",
       "1                   165.0                         3.0                    15.2   \n",
       "2                   128.0                         1.0                     0.4   \n",
       "3                    81.0                         4.0                     6.0   \n",
       "4                   118.0                         4.0                     9.6   \n",
       "\n",
       "  Bat_Second_20_ov_score  Bat_Second_20_ov_wkts_lost Match_Time  \\\n",
       "0                    NaN                         NaN    Evening   \n",
       "1                  207.0                         4.0  Afternoon   \n",
       "2                    NaN                         NaN    Evening   \n",
       "3                    NaN                         NaN  Afternoon   \n",
       "4                  166.0                         5.0    Evening   \n",
       "\n",
       "   Duckworth Lewis Used  \n",
       "0                   NaN  \n",
       "1                   NaN  \n",
       "2                   NaN  \n",
       "3                   NaN  \n",
       "4                   NaN  \n",
       "\n",
       "[5 rows x 43 columns]"
      ]
     },
     "execution_count": 2,
     "metadata": {},
     "output_type": "execute_result"
    }
   ],
   "source": [
    "data = pd.read_excel(\"IPL.xls\")\n",
    "data.head()"
   ]
  },
  {
   "cell_type": "markdown",
   "metadata": {},
   "source": [
    "### Task-1"
   ]
  },
  {
   "cell_type": "code",
   "execution_count": 7,
   "metadata": {},
   "outputs": [],
   "source": [
    "match_2009 = data[data[\"Year\"]==2009]"
   ]
  },
  {
   "cell_type": "code",
   "execution_count": null,
   "metadata": {},
   "outputs": [],
   "source": [
    "1. Winning_Team\n",
    "2. Balls_Remaining\n",
    "3. "
   ]
  },
  {
   "cell_type": "code",
   "execution_count": 37,
   "metadata": {},
   "outputs": [],
   "source": [
    "close = []\n",
    "for i in range(2008,2016):\n",
    "    year = data[data[\"Year\"]==i]\n",
    "    balls_remaining = year[year[\"Balls_Remaining\"]<=3]\n",
    "    tie = year[year[\"Winning_Team\"]==\"Match Tied\"]\n",
    "    chase_win = year[year[\"Winner\"] == year[\"Team_Batting_Second\"]]\n",
    "    chase_win_1 = chase_win[chase_win[\"Winning_Margin\"] == 1]\n",
    "    chase_loose = year[year[\"Winner\"] != year[\"Team_Batting_Second\"]]\n",
    "    chase_loose_5 = chase_loose[chase_loose[\"Winning_Margin\"] <= 5]\n",
    "    final = [balls_remaining, tie,chase_win_1,chase_loose_5]\n",
    "#     print(len(final[0]))   \n",
    "    close.append(len(final[0]))"
   ]
  },
  {
   "cell_type": "code",
   "execution_count": 38,
   "metadata": {},
   "outputs": [
    {
     "data": {
      "text/plain": [
       "[28, 33, 28, 35, 46, 39, 33, 39]"
      ]
     },
     "execution_count": 38,
     "metadata": {},
     "output_type": "execute_result"
    }
   ],
   "source": [
    "close"
   ]
  },
  {
   "cell_type": "code",
   "execution_count": 39,
   "metadata": {},
   "outputs": [
    {
     "data": {
      "text/plain": [
       "[2008, 2009, 2010, 2011, 2012, 2013, 2014, 2015]"
      ]
     },
     "execution_count": 39,
     "metadata": {},
     "output_type": "execute_result"
    }
   ],
   "source": [
    "index = [i for i in range(2008,2016)]\n",
    "index"
   ]
  },
  {
   "cell_type": "code",
   "execution_count": 40,
   "metadata": {},
   "outputs": [],
   "source": [
    "close = pd.DataFrame(data = close,index = index,columns = [\"No of mathches\"])"
   ]
  },
  {
   "cell_type": "code",
   "execution_count": 41,
   "metadata": {},
   "outputs": [
    {
     "data": {
      "text/html": [
       "<div>\n",
       "<style scoped>\n",
       "    .dataframe tbody tr th:only-of-type {\n",
       "        vertical-align: middle;\n",
       "    }\n",
       "\n",
       "    .dataframe tbody tr th {\n",
       "        vertical-align: top;\n",
       "    }\n",
       "\n",
       "    .dataframe thead th {\n",
       "        text-align: right;\n",
       "    }\n",
       "</style>\n",
       "<table border=\"1\" class=\"dataframe\">\n",
       "  <thead>\n",
       "    <tr style=\"text-align: right;\">\n",
       "      <th></th>\n",
       "      <th>No of mathches</th>\n",
       "    </tr>\n",
       "  </thead>\n",
       "  <tbody>\n",
       "    <tr>\n",
       "      <th>2008</th>\n",
       "      <td>28</td>\n",
       "    </tr>\n",
       "    <tr>\n",
       "      <th>2009</th>\n",
       "      <td>33</td>\n",
       "    </tr>\n",
       "    <tr>\n",
       "      <th>2010</th>\n",
       "      <td>28</td>\n",
       "    </tr>\n",
       "    <tr>\n",
       "      <th>2011</th>\n",
       "      <td>35</td>\n",
       "    </tr>\n",
       "    <tr>\n",
       "      <th>2012</th>\n",
       "      <td>46</td>\n",
       "    </tr>\n",
       "    <tr>\n",
       "      <th>2013</th>\n",
       "      <td>39</td>\n",
       "    </tr>\n",
       "    <tr>\n",
       "      <th>2014</th>\n",
       "      <td>33</td>\n",
       "    </tr>\n",
       "    <tr>\n",
       "      <th>2015</th>\n",
       "      <td>39</td>\n",
       "    </tr>\n",
       "  </tbody>\n",
       "</table>\n",
       "</div>"
      ],
      "text/plain": [
       "      No of mathches\n",
       "2008              28\n",
       "2009              33\n",
       "2010              28\n",
       "2011              35\n",
       "2012              46\n",
       "2013              39\n",
       "2014              33\n",
       "2015              39"
      ]
     },
     "execution_count": 41,
     "metadata": {},
     "output_type": "execute_result"
    }
   ],
   "source": [
    "close"
   ]
  },
  {
   "cell_type": "markdown",
   "metadata": {},
   "source": [
    "### Task-2"
   ]
  },
  {
   "cell_type": "code",
   "execution_count": 42,
   "metadata": {},
   "outputs": [
    {
     "data": {
      "text/plain": [
       "['Chennai', 'Hyderabad', 'Mumbai', 'Kolkata']"
      ]
     },
     "execution_count": 42,
     "metadata": {},
     "output_type": "execute_result"
    }
   ],
   "source": [
    "teams = [\"Chennai\",\"Hyderabad\",\"Mumbai\",\"Kolkata\"]\n",
    "teams"
   ]
  },
  {
   "cell_type": "code",
   "execution_count": 52,
   "metadata": {},
   "outputs": [
    {
     "data": {
      "text/plain": [
       "[58.44155844155844, 43.66197183098591, 59.42028985507246, 45.45454545454545]"
      ]
     },
     "execution_count": 52,
     "metadata": {},
     "output_type": "execute_result"
    }
   ],
   "source": [
    "percentages = []\n",
    "for i in teams:\n",
    "    bat_first = data[data[\"Team_Batting_First\"] == i]\n",
    "    bat_first_no = len(bat_first)\n",
    "    \n",
    "    bat_first_win = bat_first[bat_first[\"Winning_Team\"]==\"FirstBatting\"]\n",
    "    bat_first_win_no = len(bat_first_win)\n",
    "    per = (bat_first_win_no/bat_first_no)*100\n",
    "    percentages.append(per)\n",
    "percentages"
   ]
  },
  {
   "cell_type": "code",
   "execution_count": 53,
   "metadata": {},
   "outputs": [
    {
     "data": {
      "text/html": [
       "<div>\n",
       "<style scoped>\n",
       "    .dataframe tbody tr th:only-of-type {\n",
       "        vertical-align: middle;\n",
       "    }\n",
       "\n",
       "    .dataframe tbody tr th {\n",
       "        vertical-align: top;\n",
       "    }\n",
       "\n",
       "    .dataframe thead th {\n",
       "        text-align: right;\n",
       "    }\n",
       "</style>\n",
       "<table border=\"1\" class=\"dataframe\">\n",
       "  <thead>\n",
       "    <tr style=\"text-align: right;\">\n",
       "      <th></th>\n",
       "      <th>Percent won batting first</th>\n",
       "    </tr>\n",
       "  </thead>\n",
       "  <tbody>\n",
       "    <tr>\n",
       "      <th>Chennai</th>\n",
       "      <td>58.441558</td>\n",
       "    </tr>\n",
       "    <tr>\n",
       "      <th>Hyderabad</th>\n",
       "      <td>43.661972</td>\n",
       "    </tr>\n",
       "    <tr>\n",
       "      <th>Mumbai</th>\n",
       "      <td>59.420290</td>\n",
       "    </tr>\n",
       "    <tr>\n",
       "      <th>Kolkata</th>\n",
       "      <td>45.454545</td>\n",
       "    </tr>\n",
       "  </tbody>\n",
       "</table>\n",
       "</div>"
      ],
      "text/plain": [
       "           Percent won batting first\n",
       "Chennai                    58.441558\n",
       "Hyderabad                  43.661972\n",
       "Mumbai                     59.420290\n",
       "Kolkata                    45.454545"
      ]
     },
     "execution_count": 53,
     "metadata": {},
     "output_type": "execute_result"
    }
   ],
   "source": [
    "pd.DataFrame(data = percentages,index = teams,columns = [\"Percent won batting first\"])"
   ]
  },
  {
   "cell_type": "code",
   "execution_count": null,
   "metadata": {},
   "outputs": [],
   "source": []
  }
 ],
 "metadata": {
  "kernelspec": {
   "display_name": "Python 3",
   "language": "python",
   "name": "python3"
  },
  "language_info": {
   "codemirror_mode": {
    "name": "ipython",
    "version": 3
   },
   "file_extension": ".py",
   "mimetype": "text/x-python",
   "name": "python",
   "nbconvert_exporter": "python",
   "pygments_lexer": "ipython3",
   "version": "3.8.5"
  }
 },
 "nbformat": 4,
 "nbformat_minor": 4
}
